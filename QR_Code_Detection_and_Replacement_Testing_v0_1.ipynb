{
  "nbformat": 4,
  "nbformat_minor": 0,
  "metadata": {
    "colab": {
      "name": "QR Code Detection and Replacement Testing_v0.1.ipynb",
      "provenance": [],
      "collapsed_sections": []
    },
    "kernelspec": {
      "name": "python3",
      "display_name": "Python 3"
    },
    "language_info": {
      "name": "python"
    }
  },
  "cells": [
    {
      "cell_type": "markdown",
      "metadata": {
        "id": "zNGC0sKMrU0q"
      },
      "source": [
        "**(1) Installation and import of necessary packages**"
      ]
    },
    {
      "cell_type": "code",
      "metadata": {
        "id": "NIeH_dlsJzMp"
      },
      "source": [
        "!pip install PyPDF2\n",
        "!apt install libzbar0\n",
        "!pip install pyzbar"
      ],
      "execution_count": null,
      "outputs": []
    },
    {
      "cell_type": "code",
      "metadata": {
        "id": "5WFWgAE3IZ33"
      },
      "source": [
        "import PyPDF2\n",
        "from PIL import Image\n",
        "from pyzbar.pyzbar import decode"
      ],
      "execution_count": 2,
      "outputs": []
    },
    {
      "cell_type": "markdown",
      "metadata": {
        "id": "oYGJBk2uriVK"
      },
      "source": [
        "**(2) Import the PDF and getting the content of first page**"
      ]
    },
    {
      "cell_type": "code",
      "metadata": {
        "id": "q9TTPMpEJ-Vj"
      },
      "source": [
        "pdf_input = PyPDF2.PdfFileReader(open(\"/content/sample.pdf\", \"rb\"))\n",
        "first_page = pdf_input.getPage(0)\n",
        "xObject = first_page['/Resources']['/XObject'].getObject()"
      ],
      "execution_count": 3,
      "outputs": []
    },
    {
      "cell_type": "markdown",
      "metadata": {
        "id": "sLZ1cXH9rwtR"
      },
      "source": [
        "**(3) Inspecting each of the image in the first page**"
      ]
    },
    {
      "cell_type": "code",
      "metadata": {
        "colab": {
          "base_uri": "https://localhost:8080/"
        },
        "id": "wT2GE32eKbIO",
        "outputId": "46b8deb3-ac9b-4a04-b2ea-5dd78111376f"
      },
      "source": [
        "for obj in xObject:\n",
        "  print(xObject[obj]['/Filter'])"
      ],
      "execution_count": 4,
      "outputs": [
        {
          "output_type": "stream",
          "name": "stdout",
          "text": [
            "/DCTDecode\n",
            "/FlateDecode\n",
            "/DCTDecode\n",
            "/DCTDecode\n"
          ]
        }
      ]
    },
    {
      "cell_type": "markdown",
      "metadata": {
        "id": "H4jPsr5ZsCQz"
      },
      "source": [
        "**(4) Extracting the QR code image**"
      ]
    },
    {
      "cell_type": "code",
      "metadata": {
        "id": "JxNrl_fKP-Rf"
      },
      "source": [
        "for obj in xObject:\n",
        "  if xObject[obj]['/Filter'] == '/FlateDecode':\n",
        "    size = (xObject[obj]['/Width'], xObject[obj]['/Height'])\n",
        "    data = xObject[obj].getData()\n",
        "\n",
        "    if xObject[obj]['/ColorSpace'] == '/DeviceRGB':\n",
        "      mode = \"RGB\"\n",
        "    else:\n",
        "      mode = \"P\"\n",
        "\n",
        "    img = Image.frombytes(mode, size, data)\n",
        "    img.save(obj[1:] + \".png\")"
      ],
      "execution_count": 5,
      "outputs": []
    },
    {
      "cell_type": "markdown",
      "metadata": {
        "id": "YCETpFjLsISR"
      },
      "source": [
        "**(5) Decoding the QR code image**"
      ]
    },
    {
      "cell_type": "code",
      "metadata": {
        "colab": {
          "base_uri": "https://localhost:8080/"
        },
        "id": "ebNoGva8bJhB",
        "outputId": "96bb5104-2a51-4bb2-afb5-b7c230845ed5"
      },
      "source": [
        "img_testing = Image.open('/content/Im2.png')\n",
        "result = decode(img_testing)\n",
        "\n",
        "print(result)"
      ],
      "execution_count": 6,
      "outputs": [
        {
          "output_type": "stream",
          "name": "stdout",
          "text": [
            "[]\n"
          ]
        }
      ]
    }
  ]
}